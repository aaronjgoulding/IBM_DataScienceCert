{
  "cells": [
    {
      "cell_type": "markdown",
      "metadata": {
        "id": "bbx-Za8ypdfq"
      },
      "source": [
        "<center>\n",
        "    <img src=\"https://cf-courses-data.s3.us.cloud-object-storage.appdomain.cloud/IBMDeveloperSkillsNetwork-DS0105EN-SkillsNetwork/labs/Module2/images/SN_web_lightmode.png\" width=\"300\" alt=\"cognitiveclass.ai logo\">\n",
        "</center>\n"
      ]
    },
    {
      "cell_type": "markdown",
      "metadata": {
        "id": "csIFRsTOpdfs"
      },
      "source": [
        "# Data Science Tools and Ecosystem"
      ]
    },
    {
      "cell_type": "markdown",
      "metadata": {
        "tags": [],
        "id": "O3QCXkh_pdfs"
      },
      "source": [
        "In this notebook by Aaron, Data Science Tools and Ecosystem are summarized."
      ]
    },
    {
      "cell_type": "markdown",
      "source": [
        "**Objectives:**\n",
        "\n",
        "\n",
        "*   inform the student about the leading data science tools.\n",
        "*   show how-to use the top data science tools.\n",
        "*   get the student to use the tools themselves.\n",
        "\n"
      ],
      "metadata": {
        "id": "W52HbNT1ud1I"
      }
    },
    {
      "cell_type": "markdown",
      "metadata": {
        "id": "zqHYxv83pdfs"
      },
      "source": [
        "Some of the popular languages that Data Scientists use are:\n",
        "1. Python\n",
        "1. SQL\n",
        "1. R"
      ]
    },
    {
      "cell_type": "markdown",
      "metadata": {
        "id": "eGXmc5IFpdft"
      },
      "source": [
        "Some of the commonly used libraries used by Data Scientists include:\n",
        "1. Scikit-learn library\n",
        "1. NumPy\n",
        "1. Matplotlib"
      ]
    },
    {
      "cell_type": "markdown",
      "metadata": {
        "tags": [],
        "id": "xAKRrrJkpdft"
      },
      "source": [
        "| Data Science Tools |\n",
        "|:--------:|\n",
        "| Visual Studio Code |\n",
        "| R Studio |\n",
        "| Anaconda |\n"
      ]
    },
    {
      "cell_type": "markdown",
      "source": [
        "### Below are a few examples of evaluating arithmetic expressions in Python\n",
        "\n",
        "This a simple arithmetic expression to mutiply then add integers"
      ],
      "metadata": {
        "id": "xR-NKB8bseL2"
      }
    },
    {
      "cell_type": "code",
      "source": [
        "(3*4)+5"
      ],
      "metadata": {
        "colab": {
          "base_uri": "https://localhost:8080/"
        },
        "id": "arp2HhvVtHIj",
        "outputId": "7d5d6a86-2382-4e5b-d7cf-c940db25278d"
      },
      "execution_count": 2,
      "outputs": [
        {
          "output_type": "execute_result",
          "data": {
            "text/plain": [
              "17"
            ]
          },
          "metadata": {},
          "execution_count": 2
        }
      ]
    },
    {
      "cell_type": "markdown",
      "source": [
        "This will convert 200 minutes to hours by diving by 60"
      ],
      "metadata": {
        "id": "dqyf0EIUtjuR"
      }
    },
    {
      "cell_type": "code",
      "source": [
        "200 / 60"
      ],
      "metadata": {
        "colab": {
          "base_uri": "https://localhost:8080/"
        },
        "id": "XFJRvbLMtnrd",
        "outputId": "556786e3-356a-466d-c4c9-202a50432c3c"
      },
      "execution_count": 3,
      "outputs": [
        {
          "output_type": "execute_result",
          "data": {
            "text/plain": [
              "3.3333333333333335"
            ]
          },
          "metadata": {},
          "execution_count": 3
        }
      ]
    },
    {
      "cell_type": "markdown",
      "source": [
        "## Author\n",
        "Aaron Goulding"
      ],
      "metadata": {
        "id": "0jbUk-FjwlDO"
      }
    }
  ],
  "metadata": {
    "kernelspec": {
      "display_name": "Python",
      "language": "python",
      "name": "conda-env-python-py"
    },
    "language_info": {
      "codemirror_mode": {
        "name": "ipython",
        "version": 3
      },
      "file_extension": ".py",
      "mimetype": "text/x-python",
      "name": "python",
      "nbconvert_exporter": "python",
      "pygments_lexer": "ipython3",
      "version": "3.7.12"
    },
    "colab": {
      "provenance": []
    }
  },
  "nbformat": 4,
  "nbformat_minor": 0
}